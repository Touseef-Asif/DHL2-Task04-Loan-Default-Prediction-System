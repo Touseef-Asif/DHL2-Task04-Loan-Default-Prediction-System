{
  "nbformat": 4,
  "nbformat_minor": 0,
  "metadata": {
    "colab": {
      "provenance": []
    },
    "kernelspec": {
      "name": "python3",
      "display_name": "Python 3"
    },
    "language_info": {
      "name": "python"
    }
  },
  "cells": [
    {
      "cell_type": "markdown",
      "source": [
        "# Loan Default Prediction System\n",
        "## Task 4: Lending Club Loan Dataset\n",
        "**Objective**: Build classification models to predict high-risk loan applicants"
      ],
      "metadata": {
        "id": "ipAYFsH6Ik6I"
      }
    },
    {
      "cell_type": "markdown",
      "source": [
        "## 1. Mount Google Drive & Install Dependencies"
      ],
      "metadata": {
        "id": "acGd-rl0Iwbh"
      }
    },
    {
      "cell_type": "code",
      "execution_count": 1,
      "metadata": {
        "colab": {
          "base_uri": "https://localhost:8080/"
        },
        "id": "6G5YJeEoIal9",
        "outputId": "cc00a1a8-f5c8-4a62-cd93-37f861c7c7bc"
      },
      "outputs": [
        {
          "output_type": "stream",
          "name": "stdout",
          "text": [
            "Mounted at /content/drive\n"
          ]
        }
      ],
      "source": [
        "from google.colab import drive\n",
        "drive.mount('/content/drive')\n",
        "\n",
        "# Install required libraries\n",
        "!pip install lightgbm imbalanced-learn shap > /dev/null"
      ]
    },
    {
      "cell_type": "code",
      "source": [
        "!pip install optuna"
      ],
      "metadata": {
        "colab": {
          "base_uri": "https://localhost:8080/"
        },
        "id": "Zk5eUye9kTHm",
        "outputId": "34c9aaa2-ef25-4ca2-99f6-4179fdb39fe5"
      },
      "execution_count": 2,
      "outputs": [
        {
          "output_type": "stream",
          "name": "stdout",
          "text": [
            "Collecting optuna\n",
            "  Downloading optuna-4.2.1-py3-none-any.whl.metadata (17 kB)\n",
            "Collecting alembic>=1.5.0 (from optuna)\n",
            "  Downloading alembic-1.14.1-py3-none-any.whl.metadata (7.4 kB)\n",
            "Collecting colorlog (from optuna)\n",
            "  Downloading colorlog-6.9.0-py3-none-any.whl.metadata (10 kB)\n",
            "Requirement already satisfied: numpy in /usr/local/lib/python3.11/dist-packages (from optuna) (1.26.4)\n",
            "Requirement already satisfied: packaging>=20.0 in /usr/local/lib/python3.11/dist-packages (from optuna) (24.2)\n",
            "Requirement already satisfied: sqlalchemy>=1.4.2 in /usr/local/lib/python3.11/dist-packages (from optuna) (2.0.38)\n",
            "Requirement already satisfied: tqdm in /usr/local/lib/python3.11/dist-packages (from optuna) (4.67.1)\n",
            "Requirement already satisfied: PyYAML in /usr/local/lib/python3.11/dist-packages (from optuna) (6.0.2)\n",
            "Collecting Mako (from alembic>=1.5.0->optuna)\n",
            "  Downloading Mako-1.3.9-py3-none-any.whl.metadata (2.9 kB)\n",
            "Requirement already satisfied: typing-extensions>=4 in /usr/local/lib/python3.11/dist-packages (from alembic>=1.5.0->optuna) (4.12.2)\n",
            "Requirement already satisfied: greenlet!=0.4.17 in /usr/local/lib/python3.11/dist-packages (from sqlalchemy>=1.4.2->optuna) (3.1.1)\n",
            "Requirement already satisfied: MarkupSafe>=0.9.2 in /usr/local/lib/python3.11/dist-packages (from Mako->alembic>=1.5.0->optuna) (3.0.2)\n",
            "Downloading optuna-4.2.1-py3-none-any.whl (383 kB)\n",
            "\u001b[2K   \u001b[90m━━━━━━━━━━━━━━━━━━━━━━━━━━━━━━━━━━━━━━━━\u001b[0m \u001b[32m383.6/383.6 kB\u001b[0m \u001b[31m9.9 MB/s\u001b[0m eta \u001b[36m0:00:00\u001b[0m\n",
            "\u001b[?25hDownloading alembic-1.14.1-py3-none-any.whl (233 kB)\n",
            "\u001b[2K   \u001b[90m━━━━━━━━━━━━━━━━━━━━━━━━━━━━━━━━━━━━━━━━\u001b[0m \u001b[32m233.6/233.6 kB\u001b[0m \u001b[31m13.4 MB/s\u001b[0m eta \u001b[36m0:00:00\u001b[0m\n",
            "\u001b[?25hDownloading colorlog-6.9.0-py3-none-any.whl (11 kB)\n",
            "Downloading Mako-1.3.9-py3-none-any.whl (78 kB)\n",
            "\u001b[2K   \u001b[90m━━━━━━━━━━━━━━━━━━━━━━━━━━━━━━━━━━━━━━━━\u001b[0m \u001b[32m78.5/78.5 kB\u001b[0m \u001b[31m3.7 MB/s\u001b[0m eta \u001b[36m0:00:00\u001b[0m\n",
            "\u001b[?25hInstalling collected packages: Mako, colorlog, alembic, optuna\n",
            "Successfully installed Mako-1.3.9 alembic-1.14.1 colorlog-6.9.0 optuna-4.2.1\n"
          ]
        }
      ]
    },
    {
      "cell_type": "code",
      "source": [
        "import pandas as pd\n",
        "import numpy as np\n",
        "import matplotlib.pyplot as plt\n",
        "import seaborn as sns\n",
        "import shap\n",
        "import lightgbm as lgb\n",
        "import optuna  # For hyperparameter tuning\n",
        "from sklearn.model_selection import train_test_split\n",
        "from sklearn.preprocessing import StandardScaler, OrdinalEncoder, LabelEncoder, PowerTransformer\n",
        "from sklearn.metrics import classification_report, roc_auc_score, roc_curve, auc, confusion_matrix, precision_recall_curve, matthews_corrcoef\n",
        "from imblearn.combine import SMOTETomek  # Combines SMOTE & Tomek Links"
      ],
      "metadata": {
        "colab": {
          "base_uri": "https://localhost:8080/"
        },
        "id": "GfYRst8CgG1x",
        "outputId": "33b81fcf-8ce4-4726-c993-6d5066726e1a"
      },
      "execution_count": 3,
      "outputs": [
        {
          "output_type": "stream",
          "name": "stderr",
          "text": [
            "/usr/local/lib/python3.11/dist-packages/dask/dataframe/__init__.py:42: FutureWarning: \n",
            "Dask dataframe query planning is disabled because dask-expr is not installed.\n",
            "\n",
            "You can install it with `pip install dask[dataframe]` or `conda install dask`.\n",
            "This will raise in a future version.\n",
            "\n",
            "  warnings.warn(msg, FutureWarning)\n"
          ]
        }
      ]
    },
    {
      "cell_type": "code",
      "source": [
        "# Unzip the dataset\n",
        "!unzip -q '/content/drive/MyDrive/loan.csv.zip' -d '/content/dataset'\n",
        "\n",
        "# Check the dataset structure\n",
        "!ls /content/dataset"
      ],
      "metadata": {
        "colab": {
          "base_uri": "https://localhost:8080/"
        },
        "id": "tMsp3n8simyd",
        "outputId": "3db9a88a-04eb-4a0b-fdc0-943f9c64f5c7"
      },
      "execution_count": 4,
      "outputs": [
        {
          "output_type": "stream",
          "name": "stdout",
          "text": [
            "loan.csv\n"
          ]
        }
      ]
    },
    {
      "cell_type": "code",
      "source": [
        "# Install required libraries\n",
        "!pip install lightgbm imbalanced-learn shap > /dev/null"
      ],
      "metadata": {
        "id": "ckRaIzEDndbi"
      },
      "execution_count": 5,
      "outputs": []
    },
    {
      "cell_type": "markdown",
      "source": [
        "## 2. Load Dataset & Initial Exploration"
      ],
      "metadata": {
        "id": "xehqpIBtJBS-"
      }
    },
    {
      "cell_type": "code",
      "source": [
        "# Load dataset with mixed types handled\n",
        "df = pd.read_csv('/content/dataset/loan.csv', low_memory=False)"
      ],
      "metadata": {
        "id": "DUBtYeLznnew"
      },
      "execution_count": 6,
      "outputs": []
    },
    {
      "cell_type": "markdown",
      "source": [
        "## 2. Data Preprocessing & Cleaning"
      ],
      "metadata": {
        "id": "R99GiFEHgki_"
      }
    },
    {
      "cell_type": "code",
      "source": [
        "# Define target variable\n",
        "df['default'] = df['loan_status'].isin(['Charged Off', 'Default', 'Late (31-120 days)']).astype(int)"
      ],
      "metadata": {
        "id": "d8sj7L1-iqhV"
      },
      "execution_count": 7,
      "outputs": []
    },
    {
      "cell_type": "code",
      "source": [
        "# Drop irrelevant columns (non-predictive or leakage)\n",
        "drop_columns = [\n",
        "    'funded_amnt_inv', 'issue_d', 'pymnt_plan', 'initial_list_status', 'out_prncp',\n",
        "    'out_prncp_inv', 'total_pymnt', 'total_pymnt_inv', 'total_rec_prncp',\n",
        "    'total_rec_int', 'total_rec_late_fee', 'recoveries', 'collection_recovery_fee',\n",
        "    'last_pymnt_amnt', 'application_type', 'hardship_flag', 'debt_settlement_flag'\n",
        "]\n",
        "df.drop(columns=drop_columns, inplace=True, errors='ignore')"
      ],
      "metadata": {
        "id": "Y2EYYKCAkc1k"
      },
      "execution_count": 8,
      "outputs": []
    },
    {
      "cell_type": "code",
      "source": [
        "# Handle missing values\n",
        "numerical_cols = ['dti', 'revol_util', 'annual_inc', 'delinq_2yrs', 'inq_last_6mths',\n",
        "                  'open_acc', 'pub_rec', 'total_acc', 'mort_acc', 'pub_rec_bankruptcies']\n",
        "df[numerical_cols] = df[numerical_cols].fillna(df[numerical_cols].median())"
      ],
      "metadata": {
        "id": "LKwkqlfRkjKh"
      },
      "execution_count": 9,
      "outputs": []
    },
    {
      "cell_type": "code",
      "source": [
        "categorical_cols = ['emp_length', 'home_ownership', 'verification_status', 'purpose', 'addr_state']\n",
        "df[categorical_cols] = df[categorical_cols].fillna('Unknown')"
      ],
      "metadata": {
        "id": "uajVS8wHkm2o"
      },
      "execution_count": 10,
      "outputs": []
    },
    {
      "cell_type": "code",
      "source": [
        "# Convert 'grade' & 'sub_grade' into numeric values\n",
        "grade_mapping = {'A': 1, 'B': 2, 'C': 3, 'D': 4, 'E': 5, 'F': 6, 'G': 7}\n",
        "df['grade'] = df['grade'].map(grade_mapping)\n",
        "df['sub_grade'] = df['sub_grade'].apply(lambda x: grade_mapping[x[0]] * 10 + int(x[1]))"
      ],
      "metadata": {
        "id": "_mS6temmkqmC"
      },
      "execution_count": 11,
      "outputs": []
    },
    {
      "cell_type": "code",
      "source": [
        "# Feature Engineering\n",
        "df['income_to_loan_ratio'] = df['annual_inc'] / df['loan_amnt']\n",
        "df['credit_length'] = 2024 - pd.to_datetime(df['earliest_cr_line'], errors='coerce').dt.year  # Extract credit history length"
      ],
      "metadata": {
        "colab": {
          "base_uri": "https://localhost:8080/"
        },
        "id": "CKS0hU2Kku35",
        "outputId": "5903ea8e-f9d1-4126-d92c-d5cc33d1b07c"
      },
      "execution_count": 12,
      "outputs": [
        {
          "output_type": "stream",
          "name": "stderr",
          "text": [
            "<ipython-input-12-3a199e414669>:3: UserWarning: Could not infer format, so each element will be parsed individually, falling back to `dateutil`. To ensure parsing is consistent and as-expected, please specify a format.\n",
            "  df['credit_length'] = 2024 - pd.to_datetime(df['earliest_cr_line'], errors='coerce').dt.year  # Extract credit history length\n"
          ]
        }
      ]
    },
    {
      "cell_type": "code",
      "source": [
        "# Log transformation to normalize skewed features\n",
        "log_features = ['annual_inc', 'loan_amnt', 'revol_bal', 'installment']\n",
        "df[log_features] = df[log_features].apply(lambda x: np.log1p(x))"
      ],
      "metadata": {
        "id": "eaCXzUihkzpZ"
      },
      "execution_count": 13,
      "outputs": []
    },
    {
      "cell_type": "code",
      "source": [
        "# One-hot encoding for categorical variables\n",
        "df = pd.get_dummies(df, columns=categorical_cols, drop_first=True)"
      ],
      "metadata": {
        "id": "0WUkgFREk2De"
      },
      "execution_count": 14,
      "outputs": []
    },
    {
      "cell_type": "code",
      "source": [
        "# Feature scaling (standardization)\n",
        "scaler = StandardScaler()\n",
        "df[numerical_cols] = scaler.fit_transform(df[numerical_cols])"
      ],
      "metadata": {
        "id": "Je_KpIiQk4-s"
      },
      "execution_count": 15,
      "outputs": []
    },
    {
      "cell_type": "markdown",
      "source": [
        "## 3. Feature Selection & Class Balancing"
      ],
      "metadata": {
        "id": "A3l4-sjBk7vR"
      }
    },
    {
      "cell_type": "code",
      "source": [
        "# Select relevant features\n",
        "selected_features = [\n",
        "    'loan_amnt', 'term', 'int_rate', 'grade', 'sub_grade', 'annual_inc',\n",
        "    'dti', 'revol_util', 'pub_rec', 'open_acc', 'total_acc', 'mort_acc',\n",
        "    'installment', 'income_to_loan_ratio', 'credit_length', 'default'\n",
        "]\n",
        "df = df[selected_features]"
      ],
      "metadata": {
        "id": "-rAHqj4Kk_Qx"
      },
      "execution_count": 16,
      "outputs": []
    },
    {
      "cell_type": "code",
      "source": [
        "# Convert 'term' column to numerical values (36 or 60 months)\n",
        "df['term'] = df['term'].str.extract('(\\d+)').astype(int)"
      ],
      "metadata": {
        "id": "7brSEF94llbm"
      },
      "execution_count": 17,
      "outputs": []
    },
    {
      "cell_type": "code",
      "source": [
        "# Fill missing values in numerical columns with median\n",
        "X.fillna(X.median(), inplace=True)"
      ],
      "metadata": {
        "id": "1WIMgXKgmp-5"
      },
      "execution_count": 19,
      "outputs": []
    },
    {
      "cell_type": "code",
      "source": [
        "from imblearn.over_sampling import SMOTE\n",
        "from imblearn.under_sampling import TomekLinks\n",
        "from imblearn.combine import SMOTETomek\n",
        "from sklearn.model_selection import train_test_split\n",
        "from sklearn.decomposition import PCA\n",
        "\n",
        "# Define X (features) and y (target variable)\n",
        "X = df.drop(columns=['default'])  # Features (excluding the target column)\n",
        "y = df['default']  # Target variable (loan default)\n",
        "\n",
        "# Split data into training and testing sets\n",
        "X_train, X_test, y_train, y_test = train_test_split(X, y, test_size=0.2, random_state=42, stratify=y)\n",
        "\n",
        "# Reduce dataset size for quick testing\n",
        "X_train_sample, _, y_train_sample, _ = train_test_split(X_train, y_train, test_size=0.9, random_state=42, stratify=y_train)\n",
        "\n",
        "# **Fix: Fill missing values before PCA**\n",
        "X_train_sample.fillna(X_train_sample.median(), inplace=True)\n",
        "\n",
        "# **Fix: Ensure PCA uses valid n_components**\n",
        "num_features = X_train_sample.shape[1]  # Count available features\n",
        "n_components = min(20, num_features)  # Use 20 or max available features\n",
        "\n",
        "# Reduce dimensions using PCA\n",
        "pca = PCA(n_components=n_components)\n",
        "X_train_pca = pca.fit_transform(X_train_sample)\n",
        "\n",
        "# Optimize SMOTETomek\n",
        "smote_tomek = SMOTETomek(smote=SMOTE(k_neighbors=3, random_state=42), tomek=TomekLinks(sampling_strategy='auto'), random_state=42)\n",
        "\n",
        "# Apply SMOTETomek\n",
        "X_res, y_res = smote_tomek.fit_resample(X_train_pca, y_train_sample)\n",
        "\n",
        "print(\"SMOTETomek applied successfully!\")"
      ],
      "metadata": {
        "colab": {
          "base_uri": "https://localhost:8080/"
        },
        "id": "Xm7AxYexrdDd",
        "outputId": "5bb0f33a-bb73-43d9-9e05-09f99a4c81b4"
      },
      "execution_count": 22,
      "outputs": [
        {
          "output_type": "stream",
          "name": "stdout",
          "text": [
            "SMOTETomek applied successfully!\n"
          ]
        }
      ]
    },
    {
      "cell_type": "markdown",
      "source": [
        "## 4. Hyperparameter Optimization with Optuna"
      ],
      "metadata": {
        "id": "LMqY1p_DnQ95"
      }
    },
    {
      "cell_type": "code",
      "source": [
        "import optuna\n",
        "import lightgbm as lgb\n",
        "from sklearn.metrics import roc_auc_score\n",
        "\n",
        "def objective(trial):\n",
        "    params = {\n",
        "        'objective': 'binary',\n",
        "        'metric': 'auc',  # Ensure metric is set\n",
        "        'boosting_type': 'gbdt',\n",
        "        'num_leaves': trial.suggest_int('num_leaves', 10, 100),\n",
        "        'learning_rate': trial.suggest_float('learning_rate', 0.01, 0.1),\n",
        "        'feature_fraction': trial.suggest_float('feature_fraction', 0.5, 1.0),\n",
        "        'bagging_fraction': trial.suggest_float('bagging_fraction', 0.5, 1.0),\n",
        "        'bagging_freq': trial.suggest_int('bagging_freq', 1, 10),\n",
        "        'early_stopping_round': 30,  # ✅ Add early stopping inside params\n",
        "        'verbosity': -1  # ✅ Fix: Disable logs instead of using `verbose_eval`\n",
        "    }\n",
        "\n",
        "    train_data = lgb.Dataset(X_res, label=y_res)\n",
        "    valid_data = lgb.Dataset(X_test, label=y_test)\n",
        "\n",
        "    model = lgb.train(\n",
        "        params,\n",
        "        train_data,\n",
        "        num_boost_round=200,\n",
        "        valid_sets=[valid_data],\n",
        "        valid_names=['validation']  # Ensure validation dataset name is set\n",
        "    )\n",
        "\n",
        "    y_pred = model.predict(X_test, num_iteration=model.best_iteration)\n",
        "    return roc_auc_score(y_test, y_pred)\n",
        "\n",
        "# Run Optuna optimization\n",
        "study = optuna.create_study(direction='maximize')\n",
        "study.optimize(objective, n_trials=20)"
      ],
      "metadata": {
        "colab": {
          "base_uri": "https://localhost:8080/"
        },
        "id": "Ev14zDt7nQpm",
        "outputId": "c4fa41f6-9cb4-49f5-f78d-ce23a4eba196"
      },
      "execution_count": 23,
      "outputs": [
        {
          "output_type": "stream",
          "name": "stderr",
          "text": [
            "[I 2025-02-20 06:56:09,204] A new study created in memory with name: no-name-d84bbdda-3b53-413d-ae73-783c1ef2094c\n",
            "[I 2025-02-20 06:56:19,778] Trial 0 finished with value: 0.5193759357064485 and parameters: {'num_leaves': 54, 'learning_rate': 0.038801361431153335, 'feature_fraction': 0.6220993465351554, 'bagging_fraction': 0.7352132256399366, 'bagging_freq': 10}. Best is trial 0 with value: 0.5193759357064485.\n",
            "[I 2025-02-20 06:56:32,928] Trial 1 finished with value: 0.5097919627114958 and parameters: {'num_leaves': 81, 'learning_rate': 0.06298555149628933, 'feature_fraction': 0.7278843886970603, 'bagging_fraction': 0.5618948031107207, 'bagging_freq': 2}. Best is trial 0 with value: 0.5193759357064485.\n",
            "[I 2025-02-20 06:56:40,383] Trial 2 finished with value: 0.49404682321348486 and parameters: {'num_leaves': 77, 'learning_rate': 0.06720293792572071, 'feature_fraction': 0.8770515425312657, 'bagging_fraction': 0.9316466981998176, 'bagging_freq': 2}. Best is trial 0 with value: 0.5193759357064485.\n",
            "[I 2025-02-20 06:56:49,978] Trial 3 finished with value: 0.5198730234852521 and parameters: {'num_leaves': 76, 'learning_rate': 0.07642013009814003, 'feature_fraction': 0.7285593888313019, 'bagging_fraction': 0.9102539143591839, 'bagging_freq': 3}. Best is trial 3 with value: 0.5198730234852521.\n",
            "[I 2025-02-20 06:56:55,060] Trial 4 finished with value: 0.5035744933794726 and parameters: {'num_leaves': 58, 'learning_rate': 0.04394060518422328, 'feature_fraction': 0.7510109956876765, 'bagging_fraction': 0.6582765910177232, 'bagging_freq': 9}. Best is trial 3 with value: 0.5198730234852521.\n",
            "[I 2025-02-20 06:57:08,781] Trial 5 finished with value: 0.5579438620464127 and parameters: {'num_leaves': 15, 'learning_rate': 0.038548035399532235, 'feature_fraction': 0.9887081596797828, 'bagging_fraction': 0.579661225255558, 'bagging_freq': 9}. Best is trial 5 with value: 0.5579438620464127.\n",
            "[I 2025-02-20 06:57:17,504] Trial 6 finished with value: 0.5117209238521749 and parameters: {'num_leaves': 86, 'learning_rate': 0.09649421068579069, 'feature_fraction': 0.5890210236899875, 'bagging_fraction': 0.6874419849665325, 'bagging_freq': 8}. Best is trial 5 with value: 0.5579438620464127.\n",
            "[I 2025-02-20 06:57:24,548] Trial 7 finished with value: 0.5187586602919171 and parameters: {'num_leaves': 87, 'learning_rate': 0.03836850592405456, 'feature_fraction': 0.8899873628404759, 'bagging_fraction': 0.8313119988395448, 'bagging_freq': 10}. Best is trial 5 with value: 0.5579438620464127.\n",
            "[I 2025-02-20 06:57:33,765] Trial 8 finished with value: 0.45755140314893156 and parameters: {'num_leaves': 71, 'learning_rate': 0.09231335542978066, 'feature_fraction': 0.5497580957740034, 'bagging_fraction': 0.554773094482776, 'bagging_freq': 4}. Best is trial 5 with value: 0.5579438620464127.\n",
            "[I 2025-02-20 06:57:38,502] Trial 9 finished with value: 0.4875298618345884 and parameters: {'num_leaves': 38, 'learning_rate': 0.08138489654010625, 'feature_fraction': 0.5669101422736401, 'bagging_fraction': 0.751259023615195, 'bagging_freq': 10}. Best is trial 5 with value: 0.5579438620464127.\n",
            "[I 2025-02-20 06:57:47,007] Trial 10 finished with value: 0.5510280250509059 and parameters: {'num_leaves': 10, 'learning_rate': 0.014584679523572213, 'feature_fraction': 0.9851993138927879, 'bagging_fraction': 0.5041236811666812, 'bagging_freq': 7}. Best is trial 5 with value: 0.5579438620464127.\n",
            "[I 2025-02-20 06:57:53,124] Trial 11 finished with value: 0.5548933900351404 and parameters: {'num_leaves': 10, 'learning_rate': 0.010587760851905055, 'feature_fraction': 0.9827814891940226, 'bagging_fraction': 0.5088498125577698, 'bagging_freq': 7}. Best is trial 5 with value: 0.5579438620464127.\n",
            "[I 2025-02-20 06:58:00,257] Trial 12 finished with value: 0.4997082941056852 and parameters: {'num_leaves': 15, 'learning_rate': 0.01585164309486085, 'feature_fraction': 0.9565000928903062, 'bagging_fraction': 0.5837745559297565, 'bagging_freq': 6}. Best is trial 5 with value: 0.5579438620464127.\n",
            "[I 2025-02-20 06:58:04,434] Trial 13 finished with value: 0.4997070296401101 and parameters: {'num_leaves': 28, 'learning_rate': 0.0253151862156117, 'feature_fraction': 0.8810964732817759, 'bagging_fraction': 0.6315500193269599, 'bagging_freq': 5}. Best is trial 5 with value: 0.5579438620464127.\n",
            "[I 2025-02-20 06:58:10,813] Trial 14 finished with value: 0.5507339798194753 and parameters: {'num_leaves': 26, 'learning_rate': 0.028764968959389806, 'feature_fraction': 0.9919168459479104, 'bagging_fraction': 0.5125404993449902, 'bagging_freq': 7}. Best is trial 5 with value: 0.5579438620464127.\n",
            "[I 2025-02-20 06:58:18,592] Trial 15 finished with value: 0.5082877317584706 and parameters: {'num_leaves': 41, 'learning_rate': 0.04882460537074219, 'feature_fraction': 0.828544955056113, 'bagging_fraction': 0.9991678673312225, 'bagging_freq': 8}. Best is trial 5 with value: 0.5579438620464127.\n",
            "[I 2025-02-20 06:58:24,146] Trial 16 finished with value: 0.5350988839183367 and parameters: {'num_leaves': 98, 'learning_rate': 0.02775160161846382, 'feature_fraction': 0.9308334998926685, 'bagging_fraction': 0.6032515561182913, 'bagging_freq': 6}. Best is trial 5 with value: 0.5579438620464127.\n",
            "[I 2025-02-20 06:58:32,148] Trial 17 finished with value: 0.5113575234330527 and parameters: {'num_leaves': 20, 'learning_rate': 0.012451446222164986, 'feature_fraction': 0.8107818830676772, 'bagging_fraction': 0.7202429491054813, 'bagging_freq': 8}. Best is trial 5 with value: 0.5579438620464127.\n",
            "[I 2025-02-20 06:58:37,216] Trial 18 finished with value: 0.5202241895154885 and parameters: {'num_leaves': 35, 'learning_rate': 0.053576028836592404, 'feature_fraction': 0.6660545376614608, 'bagging_fraction': 0.7802961148856092, 'bagging_freq': 5}. Best is trial 5 with value: 0.5579438620464127.\n",
            "[I 2025-02-20 06:58:45,670] Trial 19 finished with value: 0.5309937462434978 and parameters: {'num_leaves': 50, 'learning_rate': 0.02105762203294529, 'feature_fraction': 0.9273541681675758, 'bagging_fraction': 0.5355387696077802, 'bagging_freq': 9}. Best is trial 5 with value: 0.5579438620464127.\n"
          ]
        }
      ]
    },
    {
      "cell_type": "code",
      "source": [
        "# Use best parameters for final model\n",
        "best_params = study.best_params"
      ],
      "metadata": {
        "id": "tmvNgNb9nZ-Q"
      },
      "execution_count": 24,
      "outputs": []
    },
    {
      "cell_type": "markdown",
      "source": [
        "## 5. Final Model Training"
      ],
      "metadata": {
        "id": "lah7-pVTnejN"
      }
    },
    {
      "cell_type": "code",
      "source": [
        "# Ensure early stopping is inside the parameters dictionary\n",
        "best_params['early_stopping_round'] = 50  # ✅ Fix\n",
        "\n",
        "# Create LightGBM dataset\n",
        "train_data = lgb.Dataset(X_res, label=y_res)\n",
        "valid_data = lgb.Dataset(X_test, label=y_test)\n",
        "\n",
        "# Train LightGBM model\n",
        "model = lgb.train(\n",
        "    best_params,\n",
        "    train_data,\n",
        "    num_boost_round=500,\n",
        "    valid_sets=[valid_data],\n",
        "    valid_names=['validation']  # ✅ Ensure validation dataset is named\n",
        ")"
      ],
      "metadata": {
        "colab": {
          "base_uri": "https://localhost:8080/"
        },
        "id": "F1BdOKrQnkI7",
        "outputId": "d415beee-53ff-4e3d-a0b1-45fe9d6746f0"
      },
      "execution_count": 25,
      "outputs": [
        {
          "output_type": "stream",
          "name": "stdout",
          "text": [
            "Training until validation scores don't improve for 50 rounds\n",
            "Early stopping, best iteration is:\n",
            "[243]\tvalidation's l2: 0.116743\n"
          ]
        }
      ]
    },
    {
      "cell_type": "markdown",
      "source": [
        "## 6. Model Evaluation"
      ],
      "metadata": {
        "id": "Um8YWPjbnnmj"
      }
    },
    {
      "cell_type": "code",
      "source": [
        "y_pred = model.predict(X_test, num_iteration=model.best_iteration)\n",
        "y_pred_binary = (y_pred > 0.5).astype(int)\n",
        "\n",
        "# Evaluation metrics\n",
        "print(\"Classification Report:\")\n",
        "print(classification_report(y_test, y_pred_binary))\n",
        "print(f\"ROC AUC Score: {roc_auc_score(y_test, y_pred):.4f}\")\n",
        "print(f\"Matthews Correlation Coefficient: {matthews_corrcoef(y_test, y_pred_binary):.4f}\")"
      ],
      "metadata": {
        "colab": {
          "base_uri": "https://localhost:8080/"
        },
        "id": "M4aQWR3Nnr0r",
        "outputId": "ed5d2d4c-a957-4b6b-8ce5-4b00270684db"
      },
      "execution_count": 26,
      "outputs": [
        {
          "output_type": "stream",
          "name": "stdout",
          "text": [
            "Classification Report:\n",
            "              precision    recall  f1-score   support\n",
            "\n",
            "           0       0.87      1.00      0.93    395417\n",
            "           1       0.07      0.00      0.00     56717\n",
            "\n",
            "    accuracy                           0.87    452134\n",
            "   macro avg       0.47      0.50      0.47    452134\n",
            "weighted avg       0.77      0.87      0.82    452134\n",
            "\n",
            "ROC AUC Score: 0.4664\n",
            "Matthews Correlation Coefficient: -0.0015\n"
          ]
        }
      ]
    },
    {
      "cell_type": "code",
      "source": [
        "# ROC Curve\n",
        "fpr, tpr, _ = roc_curve(y_test, y_pred)\n",
        "plt.figure(figsize=(8,6))\n",
        "plt.plot(fpr, tpr, label=f'ROC curve (AUC = {roc_auc_score(y_test, y_pred):.2f})')\n",
        "plt.legend(loc=\"lower right\")\n",
        "plt.show()"
      ],
      "metadata": {
        "colab": {
          "base_uri": "https://localhost:8080/",
          "height": 522
        },
        "id": "mG41sT6wj9qG",
        "outputId": "cb7f5329-1fc1-4d30-ccf2-9c4d75891b2f"
      },
      "execution_count": 27,
      "outputs": [
        {
          "output_type": "display_data",
          "data": {
            "text/plain": [
              "<Figure size 800x600 with 1 Axes>"
            ],
            "image/png": "[encoded data removed]"
          },
          "metadata": {}
        }
      ]
    },
    {
      "cell_type": "code",
      "source": [
        "# Precision-Recall Curve\n",
        "prec, rec, _ = precision_recall_curve(y_test, y_pred)\n",
        "plt.figure(figsize=(8,6))\n",
        "plt.plot(rec, prec, label=\"Precision-Recall Curve\")\n",
        "plt.legend()\n",
        "plt.show()"
      ],
      "metadata": {
        "colab": {
          "base_uri": "https://localhost:8080/",
          "height": 522
        },
        "id": "AR4kd-hqwXb3",
        "outputId": "988f431e-4438-4560-d473-218fdade23de"
      },
      "execution_count": 28,
      "outputs": [
        {
          "output_type": "display_data",
          "data": {
            "text/plain": [
              "<Figure size 800x600 with 1 Axes>"
            ],
            "image/png": "[encoded data removed]"
          },
          "metadata": {}
        }
      ]
    },
    {
      "cell_type": "markdown",
      "source": [
        "## 7. Generate Recommendations"
      ],
      "metadata": {
        "id": "n79iCWv0xB2E"
      }
    },
    {
      "cell_type": "code",
      "source": [
        "import shap\n",
        "\n",
        "# Sample 500 rows for faster SHAP computation\n",
        "X_sample = X_test.sample(n=min(500, len(X_test)), random_state=42)\n",
        "\n",
        "# SHAP Calculation (Much Faster on Sample)\n",
        "explainer = shap.TreeExplainer(model)\n",
        "shap_values = explainer.shap_values(X_sample)  # Compute SHAP only on sample\n",
        "\n",
        "# Feature importance extraction\n",
        "feature_importance = pd.DataFrame(\n",
        "    list(zip(X_sample.columns, np.abs(shap_values).mean(axis=0))),\n",
        "    columns=['Feature', 'SHAP Importance']\n",
        ").sort_values(by='SHAP Importance', ascending=False)\n",
        "\n",
        "top_features = feature_importance.head(5)\n",
        "\n",
        "# Display key risk factors based on SHAP values\n",
        "print(\"🔴 **Key Risk Factors Contributing to Loan Default:**\")\n",
        "for i, row in top_features.iterrows():\n",
        "    print(f\"{i+1}. {row['Feature']} (SHAP Importance: {row['SHAP Importance']:.4f})\")"
      ],
      "metadata": {
        "id": "WRI9H1U1w_Yn",
        "colab": {
          "base_uri": "https://localhost:8080/"
        },
        "outputId": "dd88cdb9-2689-4ff8-a085-d381801454c0"
      },
      "execution_count": 29,
      "outputs": [
        {
          "output_type": "stream",
          "name": "stdout",
          "text": [
            "🔴 **Key Risk Factors Contributing to Loan Default:**\n",
            "14. income_to_loan_ratio (SHAP Importance: 0.2395)\n",
            "13. installment (SHAP Importance: 0.0696)\n",
            "12. mort_acc (SHAP Importance: 0.0478)\n",
            "1. loan_amnt (SHAP Importance: 0.0398)\n",
            "2. term (SHAP Importance: 0.0377)\n"
          ]
        }
      ]
    },
    {
      "cell_type": "code",
      "source": [
        "# Static key risk factors\n",
        "print(\"\\n📌 **General Risk Indicators:**\")\n",
        "print(\"✔ High Debt-to-Income Ratio (DTI > 20)\")\n",
        "print(\"✔ Low FICO Score (FICO < 650)\")\n",
        "print(\"✔ High Revolving Utilization (Utilization > 60%)\")\n",
        "print(\"✔ Large Loan Amounts (Loan > $25k)\")\n",
        "\n",
        "# Lender Recommendations\n",
        "print(\"\\n💡 **Lender Policy Recommendations:**\")\n",
        "print(\"1️⃣ Implement **stricter DTI thresholds** for high-risk categories (DTI > 20)\")\n",
        "print(\"2️⃣ Offer **lower interest rates** for borrowers with FICO > 700 to reduce default risk\")\n",
        "print(\"3️⃣ Add **credit counseling** requirements for borrowers with utilization > 75%\")\n",
        "print(\"4️⃣ Consider **income-to-loan ratio** as an additional qualification metric\")\n",
        "print(\"5️⃣ Limit large loans for borrowers with **low credit scores & high DTI**\")"
      ],
      "metadata": {
        "id": "VaCJWZAExHBL",
        "colab": {
          "base_uri": "https://localhost:8080/"
        },
        "outputId": "05c51563-384f-47bf-8f5d-c95c7b1d0fdc"
      },
      "execution_count": 30,
      "outputs": [
        {
          "output_type": "stream",
          "name": "stdout",
          "text": [
            "\n",
            "📌 **General Risk Indicators:**\n",
            "✔ High Debt-to-Income Ratio (DTI > 20)\n",
            "✔ Low FICO Score (FICO < 650)\n",
            "✔ High Revolving Utilization (Utilization > 60%)\n",
            "✔ Large Loan Amounts (Loan > $25k)\n",
            "\n",
            "💡 **Lender Policy Recommendations:**\n",
            "1️⃣ Implement **stricter DTI thresholds** for high-risk categories (DTI > 20)\n",
            "2️⃣ Offer **lower interest rates** for borrowers with FICO > 700 to reduce default risk\n",
            "3️⃣ Add **credit counseling** requirements for borrowers with utilization > 75%\n",
            "4️⃣ Consider **income-to-loan ratio** as an additional qualification metric\n",
            "5️⃣ Limit large loans for borrowers with **low credit scores & high DTI**\n"
          ]
        }
      ]
    },
    {
      "cell_type": "code",
      "source": [],
      "metadata": {
        "id": "rNoJxN_TJ8me"
      },
      "execution_count": null,
      "outputs": []
    }
  ]
}